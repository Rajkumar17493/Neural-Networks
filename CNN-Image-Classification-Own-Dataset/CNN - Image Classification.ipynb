{
 "cells": [
  {
   "cell_type": "markdown",
   "id": "c2b931af",
   "metadata": {},
   "source": [
    "### Import Libraries"
   ]
  },
  {
   "cell_type": "code",
   "execution_count": 1,
   "id": "c716f704",
   "metadata": {},
   "outputs": [],
   "source": [
    "import keras\n",
    "from keras.models import Sequential,load_model\n",
    "from keras.layers import Conv2D,MaxPool2D,Flatten, Dense\n",
    "from keras.preprocessing import image\n",
    "from keras.preprocessing.image import ImageDataGenerator\n",
    "from keras.utils import load_img,img_to_array\n",
    "import numpy as np\n",
    "import warnings\n",
    "warnings.filterwarnings('ignore')"
   ]
  },
  {
   "cell_type": "markdown",
   "id": "ccc082d4",
   "metadata": {},
   "source": [
    "### Import Data"
   ]
  },
  {
   "cell_type": "code",
   "execution_count": 2,
   "id": "c75ec5f2",
   "metadata": {},
   "outputs": [],
   "source": [
    "train_data=ImageDataGenerator(rescale=1./255)\n",
    "test_data=ImageDataGenerator(rescale=1./255)"
   ]
  },
  {
   "cell_type": "code",
   "execution_count": 3,
   "id": "fba9d8eb",
   "metadata": {},
   "outputs": [
    {
     "name": "stdout",
     "output_type": "stream",
     "text": [
      "Found 28 images belonging to 3 classes.\n",
      "Found 7 images belonging to 3 classes.\n"
     ]
    }
   ],
   "source": [
    "train_data_path=train_data.flow_from_directory(directory=r'cnn_train',target_size=(48,48))\n",
    "test_data_path=test_data.flow_from_directory(directory='cnn_test',target_size=(48,48))"
   ]
  },
  {
   "cell_type": "code",
   "execution_count": 4,
   "id": "f76f435e",
   "metadata": {},
   "outputs": [
    {
     "data": {
      "text/plain": [
       "{'raj': 0, 'srk': 1, 'vijay': 2}"
      ]
     },
     "execution_count": 4,
     "metadata": {},
     "output_type": "execute_result"
    }
   ],
   "source": [
    "train_data_path.class_indices"
   ]
  },
  {
   "cell_type": "code",
   "execution_count": 5,
   "id": "7f53241e",
   "metadata": {},
   "outputs": [
    {
     "data": {
      "text/plain": [
       "{'raj': 0, 'srk': 1, 'vijay': 2}"
      ]
     },
     "execution_count": 5,
     "metadata": {},
     "output_type": "execute_result"
    }
   ],
   "source": [
    "test_data_path.class_indices"
   ]
  },
  {
   "cell_type": "markdown",
   "id": "03ae60d3",
   "metadata": {},
   "source": [
    "### Model Building"
   ]
  },
  {
   "cell_type": "markdown",
   "id": "5b0aec43",
   "metadata": {},
   "source": [
    "### Step 1 : Build Architecture"
   ]
  },
  {
   "cell_type": "code",
   "execution_count": 6,
   "id": "9b9feb1d",
   "metadata": {},
   "outputs": [
    {
     "name": "stdout",
     "output_type": "stream",
     "text": [
      "Model: \"sequential\"\n",
      "_________________________________________________________________\n",
      " Layer (type)                Output Shape              Param #   \n",
      "=================================================================\n",
      " conv2d (Conv2D)             (None, 48, 48, 4)         112       \n",
      "                                                                 \n",
      " max_pooling2d (MaxPooling2D  (None, 24, 24, 4)        0         \n",
      " )                                                               \n",
      "                                                                 \n",
      " conv2d_1 (Conv2D)           (None, 24, 24, 8)         296       \n",
      "                                                                 \n",
      " max_pooling2d_1 (MaxPooling  (None, 12, 12, 8)        0         \n",
      " 2D)                                                             \n",
      "                                                                 \n",
      " flatten (Flatten)           (None, 1152)              0         \n",
      "                                                                 \n",
      " dense (Dense)               (None, 40)                46120     \n",
      "                                                                 \n",
      " dense_1 (Dense)             (None, 3)                 123       \n",
      "                                                                 \n",
      "=================================================================\n",
      "Total params: 46,651\n",
      "Trainable params: 46,651\n",
      "Non-trainable params: 0\n",
      "_________________________________________________________________\n"
     ]
    }
   ],
   "source": [
    "model=Sequential()\n",
    "model.add(Conv2D(input_shape=(48,48,3),filters=4,kernel_size=(3,3),strides=1,padding='same',activation='relu'))\n",
    "model.add(MaxPool2D(pool_size=(2, 2),strides=2,padding='same'))\n",
    "model.add(Conv2D(filters=8,kernel_size=(3,3),strides=1,padding='same',activation='relu'))\n",
    "model.add(MaxPool2D(pool_size=(2, 2),strides=2,padding='same'))\n",
    "model.add(Flatten())\n",
    "model.add(Dense(units=40,activation='relu'))\n",
    "model.add(Dense(units=3,activation='softmax'))\n",
    "model.summary()"
   ]
  },
  {
   "cell_type": "markdown",
   "id": "796b903a",
   "metadata": {},
   "source": [
    "### Step 2 : Compile the Architecture"
   ]
  },
  {
   "cell_type": "code",
   "execution_count": 7,
   "id": "0628ec22",
   "metadata": {},
   "outputs": [],
   "source": [
    "model.compile(optimizer='Adam',loss='categorical_crossentropy',metrics='categorical_accuracy')"
   ]
  },
  {
   "cell_type": "markdown",
   "id": "ac1a861d",
   "metadata": {},
   "source": [
    "### Model Training"
   ]
  },
  {
   "cell_type": "code",
   "execution_count": 8,
   "id": "073d0e66",
   "metadata": {},
   "outputs": [
    {
     "name": "stdout",
     "output_type": "stream",
     "text": [
      "Epoch 1/5\n",
      "1/1 [==============================] - 2s 2s/step - loss: 1.2009 - categorical_accuracy: 0.3214 - val_loss: 1.0951 - val_categorical_accuracy: 0.2857\n",
      "Epoch 2/5\n",
      "1/1 [==============================] - 1s 1s/step - loss: 1.0746 - categorical_accuracy: 0.4643 - val_loss: 1.0922 - val_categorical_accuracy: 0.2857\n",
      "Epoch 3/5\n",
      "1/1 [==============================] - 1s 1s/step - loss: 1.0041 - categorical_accuracy: 0.5000 - val_loss: 1.1057 - val_categorical_accuracy: 0.2857\n",
      "Epoch 4/5\n",
      "1/1 [==============================] - 1s 1s/step - loss: 0.9668 - categorical_accuracy: 0.5000 - val_loss: 1.1126 - val_categorical_accuracy: 0.2857\n",
      "Epoch 5/5\n",
      "1/1 [==============================] - 1s 1s/step - loss: 0.9388 - categorical_accuracy: 0.5000 - val_loss: 1.1021 - val_categorical_accuracy: 0.2857\n"
     ]
    },
    {
     "data": {
      "text/plain": [
       "<keras.callbacks.History at 0x22b7318a5e0>"
      ]
     },
     "execution_count": 8,
     "metadata": {},
     "output_type": "execute_result"
    }
   ],
   "source": [
    "model.fit(x=train_data_path,batch_size=32,epochs=5,validation_data=test_data_path)"
   ]
  },
  {
   "cell_type": "markdown",
   "id": "b65addc9",
   "metadata": {},
   "source": [
    "### Model Deployment"
   ]
  },
  {
   "cell_type": "code",
   "execution_count": 9,
   "id": "54166fc2",
   "metadata": {},
   "outputs": [],
   "source": [
    "model.save('multiclassclassifier.h5')"
   ]
  },
  {
   "cell_type": "markdown",
   "id": "0b87d392",
   "metadata": {},
   "source": [
    "### Model Prediction"
   ]
  },
  {
   "cell_type": "code",
   "execution_count": 10,
   "id": "25feb856",
   "metadata": {},
   "outputs": [
    {
     "data": {
      "image/png": "[encoded data removed]",
      "text/plain": [
       "<PIL.Image.Image image mode=RGB size=48x48 at 0x22B736D4520>"
      ]
     },
     "execution_count": 10,
     "metadata": {},
     "output_type": "execute_result"
    }
   ],
   "source": [
    "test_image=load_img(path=r'C:\\Users\\836916.INDIA\\Documents\\cnn_test\\raj\\PSX_20191117_234011.jpg',target_size=(48,48,3))\n",
    "test_image"
   ]
  },
  {
   "cell_type": "code",
   "execution_count": 11,
   "id": "8deee36e",
   "metadata": {},
   "outputs": [],
   "source": [
    "test_image_array=img_to_array(test_image)"
   ]
  },
  {
   "cell_type": "code",
   "execution_count": 12,
   "id": "b8604455",
   "metadata": {},
   "outputs": [],
   "source": [
    "test_image_array=np.expand_dims(a=test_image_array,axis=0)"
   ]
  },
  {
   "cell_type": "code",
   "execution_count": 13,
   "id": "310877fd",
   "metadata": {},
   "outputs": [
    {
     "name": "stdout",
     "output_type": "stream",
     "text": [
      "1/1 [==============================] - 0s 74ms/step\n"
     ]
    },
    {
     "data": {
      "text/plain": [
       "array([[1., 0., 0.]], dtype=float32)"
      ]
     },
     "execution_count": 13,
     "metadata": {},
     "output_type": "execute_result"
    }
   ],
   "source": [
    "#load model\n",
    "model=load_model('multiclassclassifier.h5')\n",
    "result=model.predict(test_image_array)\n",
    "result"
   ]
  },
  {
   "cell_type": "code",
   "execution_count": 14,
   "id": "11997d39",
   "metadata": {},
   "outputs": [
    {
     "name": "stdout",
     "output_type": "stream",
     "text": [
      "raj\n"
     ]
    }
   ],
   "source": [
    "if result[0][0]==1:\n",
    "    prediction='raj'\n",
    "    print(prediction)\n",
    "elif result[0][1]==1:\n",
    "    prediction='srk'\n",
    "    print(prediction)\n",
    "else:\n",
    "    prediction='vijay'\n",
    "    print(prediction)"
   ]
  },
  {
   "cell_type": "markdown",
   "id": "70761b03",
   "metadata": {},
   "source": [
    "### End !!!"
   ]
  }
 ],
 "metadata": {
  "kernelspec": {
   "display_name": "Python 3 (ipykernel)",
   "language": "python",
   "name": "python3"
  },
  "language_info": {
   "codemirror_mode": {
    "name": "ipython",
    "version": 3
   },
   "file_extension": ".py",
   "mimetype": "text/x-python",
   "name": "python",
   "nbconvert_exporter": "python",
   "pygments_lexer": "ipython3",
   "version": "3.9.7"
  }
 },
 "nbformat": 4,
 "nbformat_minor": 5
}
